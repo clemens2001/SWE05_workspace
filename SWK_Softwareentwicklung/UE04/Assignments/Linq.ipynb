{
 "cells": [
  {
   "cell_type": "markdown",
   "metadata": {},
   "source": [
    "Aufgaben zu LINQ\n",
    "================"
   ]
  },
  {
   "cell_type": "markdown",
   "metadata": {},
   "source": [
    "Gegeben sei folgende Listen von Studierenden. Führen Sie auf diesem Datenbestand\n",
    "die nachfolgend angeführten LINQ-Abfragen durch."
   ]
  },
  {
   "cell_type": "code",
   "execution_count": 1,
   "metadata": {
    "dotnet_interactive": {
     "language": "csharp"
    },
    "vscode": {
     "languageId": "polyglot-notebook"
    }
   },
   "outputs": [],
   "source": [
    "record Student (string MatNr, string Name, string Subject, int[] Grades);\n",
    "\n",
    "IEnumerable<Student> students = new List<Student> {\n",
    "  new (\"s12345\", \"Huber\",   \"Se\", new [] { 2, 3, 2, 1, 3 }),\n",
    "  new (\"s12388\", \"Mayr\",    \"MC\", new [] { 1, 2, 3, 2, 1 }),\n",
    "  new (\"s12321\", \"Bauer\",   \"se\", new [] { 3, 5, 5, 2, 3 }),\n",
    "  new (\"s12353\", \"Schmidt\", \"SE\", new [] { 2, 4, 3, 2, 1 }),\n",
    "};"
   ]
  },
  {
   "cell_type": "markdown",
   "metadata": {},
   "source": [
    "## Aufgabe 1\n",
    "Erstellen Sie eine Liste aller Studierenden des Studiengangs `SE`\n",
    "(Groß/Kleinschreibung ist irrelevant), welche als Elemente die Matrikelnummern und die Namen\n",
    "der Studierenden, nicht aber deren Noten enthält. Verwenden Sie dazu\n",
    "LINQ-Syntax. Geben Sie diese Liste anschließend aus."
   ]
  },
  {
   "cell_type": "code",
   "execution_count": 26,
   "metadata": {
    "dotnet_interactive": {
     "language": "csharp"
    },
    "vscode": {
     "languageId": "polyglot-notebook"
    }
   },
   "outputs": [
    {
     "name": "stdout",
     "output_type": "stream",
     "text": [
      "{ MatNr = s12345, Name = Huber }, { MatNr = s12321, Name = Bauer }, { MatNr = s12353, Name = Schmidt }\r\n"
     ]
    }
   ],
   "source": [
    "var seStudents = from s in students\n",
    "                 where s.Subject.ToLower() == \"se\"\n",
    "                 select new { s.MatNr, s.Name };\n",
    "Console.WriteLine(string.Join(\", \", seStudents));"
   ]
  },
  {
   "cell_type": "markdown",
   "metadata": {},
   "source": [
    "## Aufgabe 2\n",
    "Implementieren Sie die LINQ-Abfrage aus Beispiel 1 unter ausschließlicher Verwendung von Erweiterungsmethoden."
   ]
  },
  {
   "cell_type": "code",
   "execution_count": 29,
   "metadata": {
    "dotnet_interactive": {
     "language": "csharp"
    },
    "vscode": {
     "languageId": "polyglot-notebook"
    }
   },
   "outputs": [
    {
     "name": "stdout",
     "output_type": "stream",
     "text": [
      "{ MatNr = s12345, Name = Huber }, { MatNr = s12321, Name = Bauer }, { MatNr = s12353, Name = Schmidt }\r\n"
     ]
    },
    {
     "data": {
      "text/html": [
       "<table><thead><tr><th><i>index</i></th><th>value</th></tr></thead><tbody><tr><td>0</td><td><details class=\"dni-treeview\"><summary><span class=\"dni-code-hint\"><code>{ MatNr = s12345, Name = Huber }</code></span></summary><div><table><thead><tr></tr></thead><tbody><tr><td>MatNr</td><td><div class=\"dni-plaintext\"><pre>s12345</pre></div></td></tr><tr><td>Name</td><td><div class=\"dni-plaintext\"><pre>Huber</pre></div></td></tr></tbody></table></div></details></td></tr><tr><td>1</td><td><details class=\"dni-treeview\"><summary><span class=\"dni-code-hint\"><code>{ MatNr = s12321, Name = Bauer }</code></span></summary><div><table><thead><tr></tr></thead><tbody><tr><td>MatNr</td><td><div class=\"dni-plaintext\"><pre>s12321</pre></div></td></tr><tr><td>Name</td><td><div class=\"dni-plaintext\"><pre>Bauer</pre></div></td></tr></tbody></table></div></details></td></tr><tr><td>2</td><td><details class=\"dni-treeview\"><summary><span class=\"dni-code-hint\"><code>{ MatNr = s12353, Name = Schmidt }</code></span></summary><div><table><thead><tr></tr></thead><tbody><tr><td>MatNr</td><td><div class=\"dni-plaintext\"><pre>s12353</pre></div></td></tr><tr><td>Name</td><td><div class=\"dni-plaintext\"><pre>Schmidt</pre></div></td></tr></tbody></table></div></details></td></tr></tbody></table><style>\r\n",
       ".dni-code-hint {\r\n",
       "    font-style: italic;\r\n",
       "    overflow: hidden;\r\n",
       "    white-space: nowrap;\r\n",
       "}\r\n",
       ".dni-treeview {\r\n",
       "    white-space: nowrap;\r\n",
       "}\r\n",
       ".dni-treeview td {\r\n",
       "    vertical-align: top;\r\n",
       "    text-align: start;\r\n",
       "}\r\n",
       "details.dni-treeview {\r\n",
       "    padding-left: 1em;\r\n",
       "}\r\n",
       "table td {\r\n",
       "    text-align: start;\r\n",
       "}\r\n",
       "table tr { \r\n",
       "    vertical-align: top; \r\n",
       "    margin: 0em 0px;\r\n",
       "}\r\n",
       "table tr td pre \r\n",
       "{ \r\n",
       "    vertical-align: top !important; \r\n",
       "    margin: 0em 0px !important;\r\n",
       "} \r\n",
       "table th {\r\n",
       "    text-align: start;\r\n",
       "}\r\n",
       "</style>"
      ]
     },
     "metadata": {},
     "output_type": "display_data"
    }
   ],
   "source": [
    "var seStudents = students.Where(s => s.Subject.ToLower() == \"se\").Select(s => new { s.MatNr, s.Name });\n",
    "Console.WriteLine(string.Join(\", \", seStudents));\n",
    "return seStudents;"
   ]
  },
  {
   "cell_type": "markdown",
   "metadata": {},
   "source": [
    "## Aufgabe 3\n",
    "Ermitteln Sie alle Studierende, welche jede LVA mit mindestens \"Befriedigend\"\n",
    "abgeschlossen haben. *Hinweis:* Verwenden Sie die Erweiterungsmethode `bool All<T> (this IEnumerable<T> source, Func<T,bool> predicate)`."
   ]
  },
  {
   "cell_type": "code",
   "execution_count": 30,
   "metadata": {
    "dotnet_interactive": {
     "language": "csharp"
    },
    "vscode": {
     "languageId": "polyglot-notebook"
    }
   },
   "outputs": [
    {
     "name": "stdout",
     "output_type": "stream",
     "text": [
      "Huber, Mayr\r\n"
     ]
    },
    {
     "data": {
      "text/html": [
       "<table><thead><tr><th><i>index</i></th><th>value</th></tr></thead><tbody><tr><td>0</td><td><details class=\"dni-treeview\"><summary><span class=\"dni-code-hint\"><code>Student { MatNr = s12345, Name = Huber, Subject = Se, Grades = System.Int32[] }</code></span></summary><div><table><thead><tr></tr></thead><tbody><tr><td>MatNr</td><td><div class=\"dni-plaintext\"><pre>s12345</pre></div></td></tr><tr><td>Name</td><td><div class=\"dni-plaintext\"><pre>Huber</pre></div></td></tr><tr><td>Subject</td><td><div class=\"dni-plaintext\"><pre>Se</pre></div></td></tr><tr><td>Grades</td><td><div class=\"dni-plaintext\"><pre>[ 2, 3, 2, 1, 3 ]</pre></div></td></tr></tbody></table></div></details></td></tr><tr><td>1</td><td><details class=\"dni-treeview\"><summary><span class=\"dni-code-hint\"><code>Student { MatNr = s12388, Name = Mayr, Subject = MC, Grades = System.Int32[] }</code></span></summary><div><table><thead><tr></tr></thead><tbody><tr><td>MatNr</td><td><div class=\"dni-plaintext\"><pre>s12388</pre></div></td></tr><tr><td>Name</td><td><div class=\"dni-plaintext\"><pre>Mayr</pre></div></td></tr><tr><td>Subject</td><td><div class=\"dni-plaintext\"><pre>MC</pre></div></td></tr><tr><td>Grades</td><td><div class=\"dni-plaintext\"><pre>[ 1, 2, 3, 2, 1 ]</pre></div></td></tr></tbody></table></div></details></td></tr></tbody></table><style>\r\n",
       ".dni-code-hint {\r\n",
       "    font-style: italic;\r\n",
       "    overflow: hidden;\r\n",
       "    white-space: nowrap;\r\n",
       "}\r\n",
       ".dni-treeview {\r\n",
       "    white-space: nowrap;\r\n",
       "}\r\n",
       ".dni-treeview td {\r\n",
       "    vertical-align: top;\r\n",
       "    text-align: start;\r\n",
       "}\r\n",
       "details.dni-treeview {\r\n",
       "    padding-left: 1em;\r\n",
       "}\r\n",
       "table td {\r\n",
       "    text-align: start;\r\n",
       "}\r\n",
       "table tr { \r\n",
       "    vertical-align: top; \r\n",
       "    margin: 0em 0px;\r\n",
       "}\r\n",
       "table tr td pre \r\n",
       "{ \r\n",
       "    vertical-align: top !important; \r\n",
       "    margin: 0em 0px !important;\r\n",
       "} \r\n",
       "table th {\r\n",
       "    text-align: start;\r\n",
       "}\r\n",
       "</style>"
      ]
     },
     "metadata": {},
     "output_type": "display_data"
    }
   ],
   "source": [
    "var studentsWithGoodGrades = students.Where(s => s.Grades.All(g => g <= 3)).Select(s => s.Name);\n",
    "Console.WriteLine(string.Join(\", \", studentsWithGoodGrades));\n",
    "\n",
    "return students.Where(s => s.Grades.All(g => g <= 3));\n"
   ]
  },
  {
   "cell_type": "markdown",
   "metadata": {},
   "source": [
    "## Aufgabe 4\n",
    "Erstellen Sie eine Liste mit den Namen und den Durchschnittsnoten aller\n",
    "Studierenden. Die Liste soll aufsteigend nach der Durchschnittsnote sortiert sein."
   ]
  },
  {
   "cell_type": "code",
   "execution_count": 31,
   "metadata": {
    "dotnet_interactive": {
     "language": "csharp"
    },
    "vscode": {
     "languageId": "polyglot-notebook"
    }
   },
   "outputs": [
    {
     "name": "stdout",
     "output_type": "stream",
     "text": [
      "{ Name = Mayr, AverageGrade = 1.8 }, { Name = Huber, AverageGrade = 2.2 }, { Name = Schmidt, AverageGrade = 2.4 }, { Name = Bauer, AverageGrade = 3.6 }\r\n"
     ]
    },
    {
     "data": {
      "text/html": [
       "<table><thead><tr><th><i>index</i></th><th>value</th></tr></thead><tbody><tr><td>0</td><td><details class=\"dni-treeview\"><summary><span class=\"dni-code-hint\"><code>{ Name = Mayr, AverageGrade = 1.8 }</code></span></summary><div><table><thead><tr></tr></thead><tbody><tr><td>Name</td><td><div class=\"dni-plaintext\"><pre>Mayr</pre></div></td></tr><tr><td>AverageGrade</td><td><div class=\"dni-plaintext\"><pre>1.8</pre></div></td></tr></tbody></table></div></details></td></tr><tr><td>1</td><td><details class=\"dni-treeview\"><summary><span class=\"dni-code-hint\"><code>{ Name = Huber, AverageGrade = 2.2 }</code></span></summary><div><table><thead><tr></tr></thead><tbody><tr><td>Name</td><td><div class=\"dni-plaintext\"><pre>Huber</pre></div></td></tr><tr><td>AverageGrade</td><td><div class=\"dni-plaintext\"><pre>2.2</pre></div></td></tr></tbody></table></div></details></td></tr><tr><td>2</td><td><details class=\"dni-treeview\"><summary><span class=\"dni-code-hint\"><code>{ Name = Schmidt, AverageGrade = 2.4 }</code></span></summary><div><table><thead><tr></tr></thead><tbody><tr><td>Name</td><td><div class=\"dni-plaintext\"><pre>Schmidt</pre></div></td></tr><tr><td>AverageGrade</td><td><div class=\"dni-plaintext\"><pre>2.4</pre></div></td></tr></tbody></table></div></details></td></tr><tr><td>3</td><td><details class=\"dni-treeview\"><summary><span class=\"dni-code-hint\"><code>{ Name = Bauer, AverageGrade = 3.6 }</code></span></summary><div><table><thead><tr></tr></thead><tbody><tr><td>Name</td><td><div class=\"dni-plaintext\"><pre>Bauer</pre></div></td></tr><tr><td>AverageGrade</td><td><div class=\"dni-plaintext\"><pre>3.6</pre></div></td></tr></tbody></table></div></details></td></tr></tbody></table><style>\r\n",
       ".dni-code-hint {\r\n",
       "    font-style: italic;\r\n",
       "    overflow: hidden;\r\n",
       "    white-space: nowrap;\r\n",
       "}\r\n",
       ".dni-treeview {\r\n",
       "    white-space: nowrap;\r\n",
       "}\r\n",
       ".dni-treeview td {\r\n",
       "    vertical-align: top;\r\n",
       "    text-align: start;\r\n",
       "}\r\n",
       "details.dni-treeview {\r\n",
       "    padding-left: 1em;\r\n",
       "}\r\n",
       "table td {\r\n",
       "    text-align: start;\r\n",
       "}\r\n",
       "table tr { \r\n",
       "    vertical-align: top; \r\n",
       "    margin: 0em 0px;\r\n",
       "}\r\n",
       "table tr td pre \r\n",
       "{ \r\n",
       "    vertical-align: top !important; \r\n",
       "    margin: 0em 0px !important;\r\n",
       "} \r\n",
       "table th {\r\n",
       "    text-align: start;\r\n",
       "}\r\n",
       "</style>"
      ]
     },
     "metadata": {},
     "output_type": "display_data"
    }
   ],
   "source": [
    "var studentsWithAverageGrades = students.Select(s => new { s.Name, AverageGrade = s.Grades.Average() }).OrderBy(s => s.AverageGrade);\n",
    "Console.WriteLine(string.Join(\", \", studentsWithAverageGrades));\n",
    "\n",
    "return students.Select(s => new { s.Name, AverageGrade = s.Grades.Average() }).OrderBy(s => s.AverageGrade);"
   ]
  },
  {
   "cell_type": "markdown",
   "metadata": {},
   "source": [
    "## Aufgabe 5\n",
    "Ermitteln Sie für den Studierenden mit der Matrikelnummer `s12321` eine\n",
    "Notenliste, in welcher die Noten in der Langform (\"Sehr gut\", \"Gut\", ...)\n",
    "angegeben werden. Übernehmen Sie die Note aus dem Feld `gradeStrings`."
   ]
  },
  {
   "cell_type": "code",
   "execution_count": 34,
   "metadata": {
    "dotnet_interactive": {
     "language": "csharp"
    },
    "vscode": {
     "languageId": "polyglot-notebook"
    }
   },
   "outputs": [
    {
     "name": "stdout",
     "output_type": "stream",
     "text": [
      "Befriedigend, Nicht genügend, Nicht genügend, Gut, Befriedigend\n",
      "Befriedigend, Nicht genügend, Nicht genügend, Gut, Befriedigend\n"
     ]
    },
    {
     "data": {
      "text/html": [
       "<div class=\"dni-plaintext\"><pre>[ Befriedigend, Nicht gen&#252;gend, Nicht gen&#252;gend, Gut, Befriedigend ]</pre></div><style>\r\n",
       ".dni-code-hint {\r\n",
       "    font-style: italic;\r\n",
       "    overflow: hidden;\r\n",
       "    white-space: nowrap;\r\n",
       "}\r\n",
       ".dni-treeview {\r\n",
       "    white-space: nowrap;\r\n",
       "}\r\n",
       ".dni-treeview td {\r\n",
       "    vertical-align: top;\r\n",
       "    text-align: start;\r\n",
       "}\r\n",
       "details.dni-treeview {\r\n",
       "    padding-left: 1em;\r\n",
       "}\r\n",
       "table td {\r\n",
       "    text-align: start;\r\n",
       "}\r\n",
       "table tr { \r\n",
       "    vertical-align: top; \r\n",
       "    margin: 0em 0px;\r\n",
       "}\r\n",
       "table tr td pre \r\n",
       "{ \r\n",
       "    vertical-align: top !important; \r\n",
       "    margin: 0em 0px !important;\r\n",
       "} \r\n",
       "table th {\r\n",
       "    text-align: start;\r\n",
       "}\r\n",
       "</style>"
      ]
     },
     "metadata": {},
     "output_type": "display_data"
    }
   ],
   "source": [
    "var gradeStrings = new [] { \"Sehr gut\", \"Gut\", \"Befriedigend\", \"Genügend\", \"Nicht genügend\" };\n",
    "\n",
    "var bauerGrades = students.Where(s => s.MatNr == \"s12321\").Select(s => s.Grades.Select(g => gradeStrings[g - 1]));\n",
    "Console.WriteLine(string.Join(\", \", bauerGrades.SelectMany(g => g)));\n",
    "\n",
    "// mit standard link:\n",
    "var bauerGrades2 = \n",
    "    from student in students\n",
    "    where student.MatNr == \"s12321\"\n",
    "    select from grade in student.Grades\n",
    "             select gradeStrings[grade - 1];\n",
    "\n",
    "Console.WriteLine(string.Join(\", \", bauerGrades2.SelectMany(g => g)));\n",
    "\n",
    "// teacher:\n",
    "return students.Single(s => s.MatNr == \"s12321\").Grades.Select(g => gradeStrings[g - 1]);"
   ]
  },
  {
   "cell_type": "code",
   "execution_count": null,
   "metadata": {
    "vscode": {
     "languageId": "polyglot-notebook"
    }
   },
   "outputs": [],
   "source": []
  }
 ],
 "metadata": {
  "kernelspec": {
   "display_name": ".NET (C#)",
   "language": "C#",
   "name": ".net-csharp"
  },
  "language_info": {
   "name": "C#"
  }
 },
 "nbformat": 4,
 "nbformat_minor": 2
}
