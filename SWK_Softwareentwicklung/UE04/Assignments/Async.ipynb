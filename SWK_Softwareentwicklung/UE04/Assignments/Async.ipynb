{
 "cells": [
  {
   "cell_type": "markdown",
   "metadata": {},
   "source": [
    "Aufgaben zu async/await\n",
    "======================="
   ]
  },
  {
   "cell_type": "markdown",
   "metadata": {},
   "source": [
    "Analysieren Sie die nachfolgend angegebenen Methoden. Lösen Sie auf Basis dieser\n",
    "Methoden untenstehende Aufgaben."
   ]
  },
  {
   "cell_type": "code",
   "execution_count": 1,
   "metadata": {
    "dotnet_interactive": {
     "language": "csharp"
    },
    "vscode": {
     "languageId": "polyglot-notebook"
    }
   },
   "outputs": [],
   "source": [
    "async static Task<IEnumerable<T>> FilterAsync<T>(this IEnumerable<T> items, Func<T, bool> predicate) \n",
    "{\n",
    "  var result = new List<T>();\n",
    "  foreach (var item in items)\n",
    "  {\n",
    "    await Task.Delay(100);\n",
    "    if (predicate(item))\n",
    "    {\n",
    "      result.Add(item);\n",
    "    }\n",
    "  }\n",
    "  return result;\n",
    "}\n",
    "\n",
    "static bool IsPrime(int n) => n>=2 && !Enumerable.Range(2, (int)Math.Sqrt(n+1)-1).Any(i => n%i==0);"
   ]
  },
  {
   "cell_type": "markdown",
   "metadata": {},
   "source": [
    "## Aufgabe 1\n",
    "Ermitteln Sie alle Primzahlen im Bereich von 1 bis 20."
   ]
  },
  {
   "cell_type": "code",
   "execution_count": 26,
   "metadata": {
    "dotnet_interactive": {
     "language": "csharp"
    },
    "vscode": {
     "languageId": "polyglot-notebook"
    }
   },
   "outputs": [
    {
     "name": "stdout",
     "output_type": "stream",
     "text": [
      "Time elapsed: 2163 ms\r\n"
     ]
    },
    {
     "data": {
      "text/html": [
       "<div class=\"dni-plaintext\"><pre>[ 2, 3, 5, 7, 11, 13, 17, 19 ]</pre></div><style>\r\n",
       ".dni-code-hint {\r\n",
       "    font-style: italic;\r\n",
       "    overflow: hidden;\r\n",
       "    white-space: nowrap;\r\n",
       "}\r\n",
       ".dni-treeview {\r\n",
       "    white-space: nowrap;\r\n",
       "}\r\n",
       ".dni-treeview td {\r\n",
       "    vertical-align: top;\r\n",
       "    text-align: start;\r\n",
       "}\r\n",
       "details.dni-treeview {\r\n",
       "    padding-left: 1em;\r\n",
       "}\r\n",
       "table td {\r\n",
       "    text-align: start;\r\n",
       "}\r\n",
       "table tr { \r\n",
       "    vertical-align: top; \r\n",
       "    margin: 0em 0px;\r\n",
       "}\r\n",
       "table tr td pre \r\n",
       "{ \r\n",
       "    vertical-align: top !important; \r\n",
       "    margin: 0em 0px !important;\r\n",
       "} \r\n",
       "table th {\r\n",
       "    text-align: start;\r\n",
       "}\r\n",
       "</style>"
      ]
     },
     "metadata": {},
     "output_type": "display_data"
    }
   ],
   "source": [
    "var stopWatch = new System.Diagnostics.Stopwatch();\n",
    "\n",
    "stopWatch.Start();\n",
    "var primes = await Enumerable.Range(1, 20).FilterAsync(IsPrime);\n",
    "stopWatch.Stop();\n",
    "\n",
    "Console.WriteLine($\"Time elapsed: {stopWatch.ElapsedMilliseconds} ms\");\n",
    "return primes;"
   ]
  },
  {
   "cell_type": "markdown",
   "metadata": {},
   "source": [
    "## Aufgabe 2\n",
    "Ermitteln Sie alle Primzahlen im Interval [1,20], indem Sie die\n",
    "Primzahlenbestimmung *parallel* auf den Intervallen [1,10] und [11,20]\n",
    "durchführen und anschließend die Teilergebnisse zusammenfügen\n",
    "(`IEnumerable.Concat`). Vergleich Sie die Laufzeit dieser Variante mit jeder aus\n",
    "Aufgabe 1."
   ]
  },
  {
   "cell_type": "code",
   "execution_count": 25,
   "metadata": {
    "dotnet_interactive": {
     "language": "csharp"
    },
    "vscode": {
     "languageId": "polyglot-notebook"
    }
   },
   "outputs": [
    {
     "name": "stdout",
     "output_type": "stream",
     "text": [
      "Time elapsed: 1080 ms\r\n"
     ]
    },
    {
     "data": {
      "text/html": [
       "<div class=\"dni-plaintext\"><pre>[ 2, 3, 5, 7, 11, 13, 17, 19 ]</pre></div><style>\r\n",
       ".dni-code-hint {\r\n",
       "    font-style: italic;\r\n",
       "    overflow: hidden;\r\n",
       "    white-space: nowrap;\r\n",
       "}\r\n",
       ".dni-treeview {\r\n",
       "    white-space: nowrap;\r\n",
       "}\r\n",
       ".dni-treeview td {\r\n",
       "    vertical-align: top;\r\n",
       "    text-align: start;\r\n",
       "}\r\n",
       "details.dni-treeview {\r\n",
       "    padding-left: 1em;\r\n",
       "}\r\n",
       "table td {\r\n",
       "    text-align: start;\r\n",
       "}\r\n",
       "table tr { \r\n",
       "    vertical-align: top; \r\n",
       "    margin: 0em 0px;\r\n",
       "}\r\n",
       "table tr td pre \r\n",
       "{ \r\n",
       "    vertical-align: top !important; \r\n",
       "    margin: 0em 0px !important;\r\n",
       "} \r\n",
       "table th {\r\n",
       "    text-align: start;\r\n",
       "}\r\n",
       "</style>"
      ]
     },
     "metadata": {},
     "output_type": "display_data"
    }
   ],
   "source": [
    "var stopWatch2 = new System.Diagnostics.Stopwatch();\n",
    "\n",
    "stopWatch2.Start();\n",
    "var task1 = Enumerable.Range(1, 10).FilterAsync(IsPrime);\n",
    "var task2 = Enumerable.Range(11, 10).FilterAsync(IsPrime);\n",
    "\n",
    "var results = await Task.WhenAll(task1, task2);\n",
    "\n",
    "stopWatch2.Stop();\n",
    "Console.WriteLine($\"Time elapsed: {stopWatch2.ElapsedMilliseconds} ms\"); // half the time because we are running two tasks in parallel\n",
    "\n",
    "return results[0].Concat(results[1]);"
   ]
  }
 ],
 "metadata": {
  "kernelspec": {
   "display_name": ".NET (C#)",
   "language": "C#",
   "name": ".net-csharp"
  },
  "language_info": {
   "name": "C#"
  }
 },
 "nbformat": 4,
 "nbformat_minor": 2
}
