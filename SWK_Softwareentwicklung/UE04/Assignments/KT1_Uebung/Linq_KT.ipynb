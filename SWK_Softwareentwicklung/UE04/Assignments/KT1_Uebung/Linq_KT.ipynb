{
 "cells": [
  {
   "cell_type": "markdown",
   "metadata": {},
   "source": [
    "Aufgaben zu LINQ\n",
    "================"
   ]
  },
  {
   "cell_type": "markdown",
   "metadata": {},
   "source": [
    "Gegeben sei folgende Listen von Studierenden. Führen Sie auf diesem Datenbestand\n",
    "die nachfolgend angeführten LINQ-Abfragen durch."
   ]
  },
  {
   "cell_type": "code",
   "execution_count": 1,
   "metadata": {
    "dotnet_interactive": {
     "language": "csharp"
    },
    "vscode": {
     "languageId": "polyglot-notebook"
    }
   },
   "outputs": [],
   "source": [
    "record Student (string MatNr, string Name, string Subject, int[] Grades);\n",
    "\n",
    "IEnumerable<Student> students = new List<Student> {\n",
    "  new (\"s12345\", \"Huber\",   \"Se\", new [] { 2, 3, 2, 1, 3 }),\n",
    "  new (\"s12388\", \"Mayr\",    \"MC\", new [] { 1, 2, 3, 2, 1 }),\n",
    "  new (\"s12321\", \"Bauer\",   \"se\", new [] { 3, 5, 5, 2, 3 }),\n",
    "  new (\"s12353\", \"Schmidt\", \"SE\", new [] { 2, 4, 3, 2, 1 }),\n",
    "};"
   ]
  },
  {
   "cell_type": "markdown",
   "metadata": {},
   "source": [
    "## Aufgabe 1\n",
    "Erstellen Sie eine Liste aller Studierenden des Studiengangs `SE`\n",
    "(Groß/Kleinschreibung ist irrelevant), welche als Elemente die Matrikelnummern und die Namen\n",
    "der Studierenden, nicht aber deren Noten enthält. Verwenden Sie dazu\n",
    "LINQ-Syntax. Geben Sie diese Liste anschließend aus."
   ]
  },
  {
   "cell_type": "code",
   "execution_count": 5,
   "metadata": {
    "dotnet_interactive": {
     "language": "csharp"
    },
    "vscode": {
     "languageId": "polyglot-notebook"
    }
   },
   "outputs": [
    {
     "name": "stdout",
     "output_type": "stream",
     "text": [
      "MatNr: s12345 Name: Huber\n",
      "MatNr: s12321 Name: Bauer\n",
      "MatNr: s12353 Name: Schmidt\n"
     ]
    }
   ],
   "source": [
    "// Version 1:\n",
    "var seStudents = from s in students \n",
    "                 where s.Subject.Equals(\"se\", StringComparison.CurrentCultureIgnoreCase)\n",
    "                 select new {s.MatNr, s.Name};\n",
    "\n",
    "foreach(var s in seStudents) {\n",
    "    Console.WriteLine($\"MatNr: {s.MatNr} Name: {s.Name}\");\n",
    "}\n",
    "\n"
   ]
  },
  {
   "cell_type": "markdown",
   "metadata": {},
   "source": [
    "## Aufgabe 2\n",
    "Implementieren Sie die LINQ-Abfrage aus Beispiel 1 unter ausschließlicher Verwendung von Erweiterungsmethoden."
   ]
  },
  {
   "cell_type": "code",
   "execution_count": 6,
   "metadata": {
    "dotnet_interactive": {
     "language": "csharp"
    },
    "vscode": {
     "languageId": "polyglot-notebook"
    }
   },
   "outputs": [
    {
     "name": "stdout",
     "output_type": "stream",
     "text": [
      "MatNr: s12345 Name: Huber\n",
      "MatNr: s12321 Name: Bauer\n",
      "MatNr: s12353 Name: Schmidt\n"
     ]
    }
   ],
   "source": [
    "var seStudents2 = students.Where(s => s.Subject.ToLower() == \"se\").Select(s => new { s.MatNr, s.Name });\n",
    "foreach(var s in seStudents2) {\n",
    "    Console.WriteLine($\"MatNr: {s.MatNr} Name: {s.Name}\");\n",
    "}\n"
   ]
  },
  {
   "cell_type": "markdown",
   "metadata": {},
   "source": [
    "## Aufgabe 3\n",
    "Ermitteln Sie alle Studierende, welche jede LVA mit mindestens \"Befriedigend\"\n",
    "abgeschlossen haben. *Hinweis:* Verwenden Sie die Erweiterungsmethode `bool All<T> (this IEnumerable<T> source, Func<T,bool> predicate)`."
   ]
  },
  {
   "cell_type": "code",
   "execution_count": 7,
   "metadata": {
    "dotnet_interactive": {
     "language": "csharp"
    },
    "vscode": {
     "languageId": "polyglot-notebook"
    }
   },
   "outputs": [
    {
     "data": {
      "text/html": [
       "<table><thead><tr><th><i>index</i></th><th>value</th></tr></thead><tbody><tr><td>0</td><td><details class=\"dni-treeview\"><summary><span class=\"dni-code-hint\"><code>Student { MatNr = s12345, Name = Huber, Subject = Se, Grades = System.Int32[] }</code></span></summary><div><table><thead><tr></tr></thead><tbody><tr><td>MatNr</td><td><div class=\"dni-plaintext\"><pre>s12345</pre></div></td></tr><tr><td>Name</td><td><div class=\"dni-plaintext\"><pre>Huber</pre></div></td></tr><tr><td>Subject</td><td><div class=\"dni-plaintext\"><pre>Se</pre></div></td></tr><tr><td>Grades</td><td><div class=\"dni-plaintext\"><pre>[ 2, 3, 2, 1, 3 ]</pre></div></td></tr></tbody></table></div></details></td></tr><tr><td>1</td><td><details class=\"dni-treeview\"><summary><span class=\"dni-code-hint\"><code>Student { MatNr = s12388, Name = Mayr, Subject = MC, Grades = System.Int32[] }</code></span></summary><div><table><thead><tr></tr></thead><tbody><tr><td>MatNr</td><td><div class=\"dni-plaintext\"><pre>s12388</pre></div></td></tr><tr><td>Name</td><td><div class=\"dni-plaintext\"><pre>Mayr</pre></div></td></tr><tr><td>Subject</td><td><div class=\"dni-plaintext\"><pre>MC</pre></div></td></tr><tr><td>Grades</td><td><div class=\"dni-plaintext\"><pre>[ 1, 2, 3, 2, 1 ]</pre></div></td></tr></tbody></table></div></details></td></tr></tbody></table><style>\r\n",
       ".dni-code-hint {\r\n",
       "    font-style: italic;\r\n",
       "    overflow: hidden;\r\n",
       "    white-space: nowrap;\r\n",
       "}\r\n",
       ".dni-treeview {\r\n",
       "    white-space: nowrap;\r\n",
       "}\r\n",
       ".dni-treeview td {\r\n",
       "    vertical-align: top;\r\n",
       "    text-align: start;\r\n",
       "}\r\n",
       "details.dni-treeview {\r\n",
       "    padding-left: 1em;\r\n",
       "}\r\n",
       "table td {\r\n",
       "    text-align: start;\r\n",
       "}\r\n",
       "table tr { \r\n",
       "    vertical-align: top; \r\n",
       "    margin: 0em 0px;\r\n",
       "}\r\n",
       "table tr td pre \r\n",
       "{ \r\n",
       "    vertical-align: top !important; \r\n",
       "    margin: 0em 0px !important;\r\n",
       "} \r\n",
       "table th {\r\n",
       "    text-align: start;\r\n",
       "}\r\n",
       "</style>"
      ]
     },
     "metadata": {},
     "output_type": "display_data"
    }
   ],
   "source": [
    "return students.Where(s => s.Grades.All((g) => g <= 3));"
   ]
  },
  {
   "cell_type": "markdown",
   "metadata": {},
   "source": [
    "## Aufgabe 4\n",
    "Erstellen Sie eine Liste mit den Namen und den Durchschnittsnoten aller\n",
    "Studierenden. Die Liste soll aufsteigend nach der Durchschnittsnote sortiert sein."
   ]
  },
  {
   "cell_type": "code",
   "execution_count": 9,
   "metadata": {
    "dotnet_interactive": {
     "language": "csharp"
    },
    "vscode": {
     "languageId": "polyglot-notebook"
    }
   },
   "outputs": [
    {
     "name": "stdout",
     "output_type": "stream",
     "text": [
      "{ Name = Mayr, avg = 1.8 }, { Name = Huber, avg = 2.2 }, { Name = Schmidt, avg = 2.4 }, { Name = Bauer, avg = 3.6 }\n",
      "\n",
      "{ Name = Mayr, avg = 1.8 }, { Name = Huber, avg = 2.2 }, { Name = Schmidt, avg = 2.4 }, { Name = Bauer, avg = 3.6 }\n"
     ]
    }
   ],
   "source": [
    "// Version 1:\n",
    "var studentsWithAverageGrades = from s in students\n",
    "                                orderby s.Grades.Average()\n",
    "                                select new {s.Name, avg = s.Grades.Average()};\n",
    "              \n",
    "Console.WriteLine(string.Join(\", \", studentsWithAverageGrades));\n",
    "Console.WriteLine();\n",
    "\n",
    "var studentsWithAverageGrades2 = students.Select(s => new {s.Name, avg = s.Grades.Average()}).OrderBy(s => s.avg);\n",
    "Console.WriteLine(string.Join(\", \", studentsWithAverageGrades2));\n"
   ]
  },
  {
   "cell_type": "markdown",
   "metadata": {},
   "source": [
    "## Aufgabe 5\n",
    "Ermitteln Sie für den Studierenden mit der Matrikelnummer `s12321` eine\n",
    "Notenliste, in welcher die Noten in der Langform (\"Sehr gut\", \"Gut\", ...)\n",
    "angegeben werden. Übernehmen Sie die Note aus dem Feld `gradeStrings`."
   ]
  },
  {
   "cell_type": "code",
   "execution_count": 11,
   "metadata": {
    "dotnet_interactive": {
     "language": "csharp"
    },
    "vscode": {
     "languageId": "polyglot-notebook"
    }
   },
   "outputs": [
    {
     "name": "stdout",
     "output_type": "stream",
     "text": [
      "Befriedigend, Nicht genügend, Nicht genügend, Gut, Befriedigend\r\n"
     ]
    }
   ],
   "source": [
    "var gradeStrings = new [] { \"Sehr gut\", \"Gut\", \"Befriedigend\", \"Genügend\", \"Nicht genügend\" };\n",
    "\n",
    "var gradesOfBauer = students.Single(s => s.MatNr == \"s12321\").Grades.Select(g => gradeStrings[g - 1]);\n",
    "Console.WriteLine(string.Join(\", \", gradesOfBauer));"
   ]
  }
 ],
 "metadata": {
  "kernelspec": {
   "display_name": ".NET (C#)",
   "language": "C#",
   "name": ".net-csharp"
  },
  "language_info": {
   "name": "C#"
  },
  "polyglot_notebook": {
   "kernelInfo": {
    "defaultKernelName": "csharp",
    "items": [
     {
      "aliases": [],
      "name": "csharp"
     }
    ]
   }
  }
 },
 "nbformat": 4,
 "nbformat_minor": 2
}
